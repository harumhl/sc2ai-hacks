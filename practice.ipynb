{
 "cells": [
  {
   "cell_type": "code",
   "execution_count": 107,
   "metadata": {
    "collapsed": true
   },
   "outputs": [],
   "source": [
    "import pandas as pd\n",
    "import numpy as np\n",
    "from collections import defaultdict"
   ]
  },
  {
   "cell_type": "code",
   "execution_count": 103,
   "metadata": {},
   "outputs": [
    {
     "data": {
      "text/html": [
       "<div>\n",
       "<style scoped>\n",
       "    .dataframe tbody tr th:only-of-type {\n",
       "        vertical-align: middle;\n",
       "    }\n",
       "\n",
       "    .dataframe tbody tr th {\n",
       "        vertical-align: top;\n",
       "    }\n",
       "\n",
       "    .dataframe thead th {\n",
       "        text-align: right;\n",
       "    }\n",
       "</style>\n",
       "<table border=\"1\" class=\"dataframe\">\n",
       "  <thead>\n",
       "    <tr style=\"text-align: right;\">\n",
       "      <th></th>\n",
       "      <th>max building</th>\n",
       "      <th>max unit</th>\n",
       "      <th>reward</th>\n",
       "    </tr>\n",
       "  </thead>\n",
       "  <tbody>\n",
       "  </tbody>\n",
       "</table>\n",
       "</div>"
      ],
      "text/plain": [
       "Empty DataFrame\n",
       "Columns: [max building, max unit, reward]\n",
       "Index: []"
      ]
     },
     "execution_count": 103,
     "metadata": {},
     "output_type": "execute_result"
    }
   ],
   "source": [
    "df = pd.DataFrame(columns=['max building','max unit', 'reward'])\n",
    "df"
   ]
  },
  {
   "cell_type": "code",
   "execution_count": 104,
   "metadata": {},
   "outputs": [
    {
     "name": "stdout",
     "output_type": "stream",
     "text": [
      "  max building max unit reward\n",
      "0      barrack   marine      1\n",
      "1      factory  vulture      2\n",
      "2      factory     tank      4\n"
     ]
    }
   ],
   "source": [
    "# append data at the end as a new row\n",
    "df.loc[len(df.index)] = ['barrack', 'marine', 1]\n",
    "df.loc[len(df.index)] = ['factory', 'vulture', 2]\n",
    "df.loc[len(df.index)] = ['factory', 'tank', 4]\n",
    "\n",
    "print df"
   ]
  },
  {
   "cell_type": "code",
   "execution_count": 105,
   "metadata": {},
   "outputs": [
    {
     "name": "stdout",
     "output_type": "stream",
     "text": [
      "  max building max unit reward\n",
      "0      barrack   marine      1\n"
     ]
    }
   ],
   "source": [
    "# find row(s) that match multiple column filters\n",
    "print df[(df['max building']=='barrack') & (df['max unit']=='marine')]"
   ]
  },
  {
   "cell_type": "code",
   "execution_count": 108,
   "metadata": {},
   "outputs": [],
   "source": [
    "# USING DICTIONARY! - set up\n",
    "dic = {}\n",
    "dic['barrack']=defaultdict(dict)\n",
    "dic['factory']=defaultdict(dict)\n",
    "dic['starport']=defaultdict(dict)\n",
    "\n",
    "dic['barrack']['marine'] = df[(df['max building']=='barrack') & (df['max unit']=='marine')]\n",
    "dic['factory']['vulture'] = df[(df['max building']=='factory') & (df['max unit']=='vulture')]\n",
    "dic['factory']['tank'] = df[(df['max building']=='factory') & (df['max unit']=='tank')]"
   ]
  },
  {
   "cell_type": "code",
   "execution_count": 109,
   "metadata": {},
   "outputs": [
    {
     "name": "stdout",
     "output_type": "stream",
     "text": [
      "  max building max unit reward\n",
      "2      factory     tank      4\n"
     ]
    }
   ],
   "source": [
    "print dic[\"factory\"][\"tank\"] #now it can be used in a func like: getData(bldg,unit)"
   ]
  },
  {
   "cell_type": "code",
   "execution_count": null,
   "metadata": {},
   "outputs": [],
   "source": [
    " "
   ]
  },
  {
   "cell_type": "code",
   "execution_count": null,
   "metadata": {},
   "outputs": [],
   "source": []
  },
  {
   "cell_type": "code",
   "execution_count": null,
   "metadata": {},
   "outputs": [],
   "source": []
  },
  {
   "cell_type": "code",
   "execution_count": null,
   "metadata": {},
   "outputs": [],
   "source": []
  }
 ],
 "metadata": {
  "kernelspec": {
   "display_name": "Python 2",
   "language": "python",
   "name": "python2"
  },
  "language_info": {
   "codemirror_mode": {
    "name": "ipython",
    "version": 2
   },
   "file_extension": ".py",
   "mimetype": "text/x-python",
   "name": "python",
   "nbconvert_exporter": "python",
   "pygments_lexer": "ipython2",
   "version": "2.7.14"
  }
 },
 "nbformat": 4,
 "nbformat_minor": 2
}
